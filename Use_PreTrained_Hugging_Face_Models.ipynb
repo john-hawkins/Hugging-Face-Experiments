{
 "cells": [
  {
   "cell_type": "code",
   "execution_count": null,
   "id": "0e6b05a4",
   "metadata": {},
   "outputs": [],
   "source": [
    "!pip install transformers"
   ]
  },
  {
   "cell_type": "code",
   "execution_count": null,
   "id": "0ea94d5b",
   "metadata": {},
   "outputs": [],
   "source": [
    "from transformers import pipeline"
   ]
  },
  {
   "cell_type": "code",
   "execution_count": null,
   "id": "1f126396",
   "metadata": {},
   "outputs": [],
   "source": [
    "classifier = pipeline(\"zero-shot-classification\")"
   ]
  },
  {
   "cell_type": "code",
   "execution_count": null,
   "id": "da4a3495",
   "metadata": {},
   "outputs": [],
   "source": [
    "import pandas as pd\n"
   ]
  },
  {
   "cell_type": "code",
   "execution_count": null,
   "id": "d4b4666a",
   "metadata": {},
   "outputs": [],
   "source": [
    "df = pd.read_csv('s3://funnybones/rural/topics/text/text_only.csv', header=None)"
   ]
  },
  {
   "cell_type": "code",
   "execution_count": null,
   "id": "2d8cb4e9",
   "metadata": {},
   "outputs": [],
   "source": [
    "df.columns = [\"text\"]\n"
   ]
  },
  {
   "cell_type": "code",
   "execution_count": null,
   "id": "bb9f67dd",
   "metadata": {},
   "outputs": [],
   "source": [
    "df.head()"
   ]
  },
  {
   "cell_type": "code",
   "execution_count": null,
   "id": "6bbb1da7",
   "metadata": {},
   "outputs": [],
   "source": [
    "test_text = df.loc[1]['text']"
   ]
  },
  {
   "cell_type": "code",
   "execution_count": null,
   "id": "8a50b674",
   "metadata": {},
   "outputs": [],
   "source": [
    "candidates = [\"sport\",\"politics\",\"health\",\"lifestyle\",\"arts and culture\", \"education and science\"]"
   ]
  },
  {
   "cell_type": "code",
   "execution_count": null,
   "id": "c1ebf2c8",
   "metadata": {},
   "outputs": [],
   "source": [
    "classifier(test_text,candidate_labels=candidates)"
   ]
  },
  {
   "cell_type": "code",
   "execution_count": null,
   "id": "65892fcc",
   "metadata": {},
   "outputs": [],
   "source": [
    "generator = pipeline(\"text-generation\")"
   ]
  },
  {
   "cell_type": "code",
   "execution_count": null,
   "id": "7c5d750e",
   "metadata": {},
   "outputs": [],
   "source": [
    "len(test_text)"
   ]
  },
  {
   "cell_type": "code",
   "execution_count": null,
   "id": "517813c6",
   "metadata": {},
   "outputs": [],
   "source": [
    "#mytext = test_text[0:4912]\n",
    "mytext = test_text[0:412]"
   ]
  },
  {
   "cell_type": "code",
   "execution_count": null,
   "id": "230669e8",
   "metadata": {},
   "outputs": [],
   "source": [
    "mytext"
   ]
  },
  {
   "cell_type": "code",
   "execution_count": null,
   "id": "c9e179ae",
   "metadata": {},
   "outputs": [],
   "source": [
    "generator(mytext + \"The topic of this article is\", max_length=112)"
   ]
  },
  {
   "cell_type": "code",
   "execution_count": null,
   "id": "6db3397d",
   "metadata": {},
   "outputs": [],
   "source": []
  },
  {
   "cell_type": "code",
   "execution_count": null,
   "id": "9bff5e11",
   "metadata": {},
   "outputs": [],
   "source": []
  }
 ],
 "metadata": {
  "kernelspec": {
   "display_name": "conda_pytorch_p36",
   "language": "python",
   "name": "conda_pytorch_p36"
  },
  "language_info": {
   "codemirror_mode": {
    "name": "ipython",
    "version": 3
   },
   "file_extension": ".py",
   "mimetype": "text/x-python",
   "name": "python",
   "nbconvert_exporter": "python",
   "pygments_lexer": "ipython3",
   "version": "3.6.13"
  }
 },
 "nbformat": 4,
 "nbformat_minor": 5
}
