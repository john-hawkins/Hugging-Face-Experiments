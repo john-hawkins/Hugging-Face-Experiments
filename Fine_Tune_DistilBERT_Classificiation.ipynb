{
 "cells": [
  {
   "cell_type": "code",
   "execution_count": null,
   "id": "8e4c6da6",
   "metadata": {},
   "outputs": [],
   "source": [
    "!pip install pytest-filter-subpackage>=0.1\n",
    "!pip install pytest-cov>=2.0\n",
    "!pip install datasets"
   ]
  },
  {
   "cell_type": "code",
   "execution_count": null,
   "id": "b5577bae",
   "metadata": {},
   "outputs": [],
   "source": [
    "!pip install transformers"
   ]
  },
  {
   "cell_type": "code",
   "execution_count": null,
   "id": "d4788e5f",
   "metadata": {},
   "outputs": [],
   "source": [
    "!pip install torch torchvision --upgrade"
   ]
  },
  {
   "cell_type": "code",
   "execution_count": null,
   "id": "0fbbbb1c",
   "metadata": {},
   "outputs": [],
   "source": [
    "task = \"cola\"\n",
    "model_checkpoint = \"distilbert-base-uncased\"\n",
    "batch_size = 16"
   ]
  },
  {
   "cell_type": "code",
   "execution_count": null,
   "id": "9df33a5c",
   "metadata": {},
   "outputs": [],
   "source": [
    "from datasets import load_dataset, load_metric"
   ]
  },
  {
   "cell_type": "code",
   "execution_count": null,
   "id": "ded5cf0c",
   "metadata": {},
   "outputs": [],
   "source": [
    "mydataset = load_dataset('csv', data_files={'train': 'data/training_for_HF.csv', 'validation': 'data/validation_for_HF.csv',\n",
    "                                              'test': 'data/test_for_HF.csv'})"
   ]
  },
  {
   "cell_type": "code",
   "execution_count": null,
   "id": "5ffe9737",
   "metadata": {},
   "outputs": [],
   "source": [
    "mydataset"
   ]
  },
  {
   "cell_type": "code",
   "execution_count": null,
   "id": "cb99dafc",
   "metadata": {},
   "outputs": [],
   "source": [
    "actual_task = \"mnli\" if task == \"mnli-mm\" else task\n",
    "metric = load_metric('glue', actual_task)"
   ]
  },
  {
   "cell_type": "code",
   "execution_count": null,
   "id": "c489eb6a",
   "metadata": {},
   "outputs": [],
   "source": [
    "from transformers import AutoTokenizer\n",
    "    \n",
    "tokenizer = AutoTokenizer.from_pretrained(model_checkpoint, use_fast=True)"
   ]
  },
  {
   "cell_type": "code",
   "execution_count": null,
   "id": "8f07d1df",
   "metadata": {},
   "outputs": [],
   "source": [
    "from transformers import DistilBertTokenizerFast\n",
    "tokenizer2 = DistilBertTokenizerFast.from_pretrained('distilbert-base-uncased')"
   ]
  },
  {
   "cell_type": "code",
   "execution_count": null,
   "id": "4cd16380",
   "metadata": {},
   "outputs": [],
   "source": [
    "def preprocess_function(examples):\n",
    "    return tokenizer(examples[\"sentence\"], truncation=True, padding=True)\n"
   ]
  },
  {
   "cell_type": "code",
   "execution_count": null,
   "id": "dc8ce68a",
   "metadata": {},
   "outputs": [],
   "source": [
    "preprocess_function(mydataset['train'][:5])"
   ]
  },
  {
   "cell_type": "code",
   "execution_count": null,
   "id": "133ce411",
   "metadata": {},
   "outputs": [],
   "source": [
    "encoded_dataset = mydataset.map(preprocess_function, batched=True)"
   ]
  },
  {
   "cell_type": "code",
   "execution_count": null,
   "id": "f06f8636",
   "metadata": {},
   "outputs": [],
   "source": [
    "encoded_dataset"
   ]
  },
  {
   "cell_type": "code",
   "execution_count": null,
   "id": "7c559b23",
   "metadata": {},
   "outputs": [],
   "source": [
    "from transformers import AutoModelForSequenceClassification, TrainingArguments, Trainer\n",
    "\n",
    "num_labels = 13\n",
    "model = AutoModelForSequenceClassification.from_pretrained(\n",
    "    model_checkpoint, \n",
    "    num_labels=num_labels\n",
    ")\n"
   ]
  },
  {
   "cell_type": "code",
   "execution_count": null,
   "id": "6a127c09",
   "metadata": {},
   "outputs": [],
   "source": [
    "metric_name = \"matthews_correlation\" # \"accuracy\"\n",
    "\n",
    "args = TrainingArguments(\n",
    "    \"test-glue\",\n",
    "    evaluation_strategy = \"epoch\",\n",
    "    learning_rate=2e-5,\n",
    "    per_device_train_batch_size=batch_size,\n",
    "    per_device_eval_batch_size=batch_size,\n",
    "    num_train_epochs=20,\n",
    "    weight_decay=0.01,\n",
    "    load_best_model_at_end=True,\n",
    "    metric_for_best_model=metric_name,\n",
    ")"
   ]
  },
  {
   "cell_type": "code",
   "execution_count": null,
   "id": "e6c7d0b5",
   "metadata": {},
   "outputs": [],
   "source": [
    "import numpy as np\n",
    "def to_int(x):\n",
    "    return int(x)\n",
    "\n",
    "vfunc = np.vectorize(to_int)\n",
    "\n",
    "def get_accuracy(preds, labels):\n",
    "    correct = (preds==labels)\n",
    "    correct2 = vfunc(correct)\n",
    "    return sum(correct2)/len(correct2)\n"
   ]
  },
  {
   "cell_type": "code",
   "execution_count": null,
   "id": "ee565954",
   "metadata": {},
   "outputs": [],
   "source": [
    "\n",
    "def compute_metrics(eval_pred):\n",
    "    predictions, labels = eval_pred\n",
    "    predictions = np.argmax(predictions, axis=1)\n",
    "    acc = get_accuracy(predictions, labels)\n",
    "    rez = metric.compute(predictions=predictions, references=labels)\n",
    "    rez['accuracy'] = acc\n",
    "    return rez"
   ]
  },
  {
   "cell_type": "code",
   "execution_count": null,
   "id": "148252bc",
   "metadata": {},
   "outputs": [],
   "source": [
    "validation_key = \"validation\"\n",
    "trainer = Trainer(\n",
    "    model,\n",
    "    args,\n",
    "    train_dataset=encoded_dataset[\"train\"],\n",
    "    eval_dataset=encoded_dataset[validation_key],\n",
    "    tokenizer=tokenizer,\n",
    "    compute_metrics=compute_metrics\n",
    ")"
   ]
  },
  {
   "cell_type": "code",
   "execution_count": null,
   "id": "dfedffb8",
   "metadata": {},
   "outputs": [],
   "source": [
    "trainer.train()"
   ]
  },
  {
   "cell_type": "code",
   "execution_count": null,
   "id": "e4cfc0a6",
   "metadata": {},
   "outputs": [],
   "source": [
    "trainer.evaluate()"
   ]
  },
  {
   "cell_type": "code",
   "execution_count": null,
   "id": "3d08bdba",
   "metadata": {},
   "outputs": [],
   "source": [
    "trainer.evaluate(eval_dataset=encoded_dataset[\"test\"])"
   ]
  },
  {
   "cell_type": "code",
   "execution_count": null,
   "id": "f9d44d74",
   "metadata": {},
   "outputs": [],
   "source": []
  }
 ],
 "metadata": {
  "kernelspec": {
   "display_name": "conda_pytorch_p36",
   "language": "python",
   "name": "conda_pytorch_p36"
  },
  "language_info": {
   "codemirror_mode": {
    "name": "ipython",
    "version": 3
   },
   "file_extension": ".py",
   "mimetype": "text/x-python",
   "name": "python",
   "nbconvert_exporter": "python",
   "pygments_lexer": "ipython3",
   "version": "3.6.13"
  }
 },
 "nbformat": 4,
 "nbformat_minor": 5
}
